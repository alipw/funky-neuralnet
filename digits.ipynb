{
 "cells": [
  {
   "cell_type": "code",
   "execution_count": 2,
   "metadata": {},
   "outputs": [],
   "source": [
    "import torch\n",
    "from torch import nn\n",
    "from torch.utils.data import DataLoader\n",
    "from sklearn import datasets\n",
    "import numpy as np\n",
    "\n",
    "torch.set_default_dtype(torch.float64)\n",
    "torch.set_default_device('cuda')\n"
   ]
  },
  {
   "cell_type": "code",
   "execution_count": 3,
   "metadata": {},
   "outputs": [
    {
     "name": "stdout",
     "output_type": "stream",
     "text": [
      "Using cuda device\n"
     ]
    }
   ],
   "source": [
    "device = (\n",
    "    \"cuda\"\n",
    "    if torch.cuda.is_available()\n",
    "    else \"mps\"\n",
    "    if torch.backends.mps.is_available()\n",
    "    else \"cpu\"\n",
    ")\n",
    "print(f\"Using {device} device\")"
   ]
  },
  {
   "cell_type": "code",
   "execution_count": 4,
   "metadata": {},
   "outputs": [],
   "source": [
    "# defining hyperparameters\n",
    "learning_rate = 0.01\n",
    "batch_size = 50\n",
    "epochs = 15"
   ]
  },
  {
   "cell_type": "code",
   "execution_count": 5,
   "metadata": {},
   "outputs": [],
   "source": [
    "data = datasets.load_digits()\n",
    "training_input = torch.tensor(data.images[0:1500]).double()\n",
    "training_output = torch.tensor(data.target[0:1500]).double()\n",
    "\n",
    "test_input = torch.tensor(data.images[1500:]).double()\n",
    "test_output = torch.tensor(data.target[1500:])\n",
    "\n",
    "test_data = (test_input, test_output)\n",
    "training_data = (training_input, training_output)"
   ]
  },
  {
   "cell_type": "code",
   "execution_count": 6,
   "metadata": {},
   "outputs": [],
   "source": [
    "model = nn.Sequential(\n",
    "    nn.Linear(64, 128, True),\n",
    "    nn.ReLU(),\n",
    "    nn.Linear(128, 64, True),\n",
    "    nn.ReLU(),\n",
    "    nn.Linear(64, 32, True),\n",
    "    nn.ReLU(),\n",
    "    nn.Linear(32, 10, True),\n",
    "    nn.Softmax(),\n",
    ")"
   ]
  },
  {
   "cell_type": "code",
   "execution_count": 7,
   "metadata": {},
   "outputs": [],
   "source": [
    "optimizer = torch.optim.SGD(model.parameters(), lr=learning_rate)"
   ]
  },
  {
   "cell_type": "code",
   "execution_count": 8,
   "metadata": {},
   "outputs": [
    {
     "data": {
      "text/plain": [
       "tensor([0, 1, 2,  ..., 6, 3, 2], device='cuda:0')"
      ]
     },
     "execution_count": 8,
     "metadata": {},
     "output_type": "execute_result"
    }
   ],
   "source": [
    "training_output = training_output.to(torch.int64)\n",
    "training_output"
   ]
  },
  {
   "cell_type": "code",
   "execution_count": 14,
   "metadata": {},
   "outputs": [
    {
     "name": "stdout",
     "output_type": "stream",
     "text": [
      "epoch 0, correct=1492/1500 (99.47%)\n",
      "epoch 1, correct=1480/1500 (98.67%)\n",
      "epoch 2, correct=1489/1500 (99.27%)\n",
      "epoch 3, correct=1478/1500 (98.53%)\n",
      "epoch 4, correct=1478/1500 (98.53%)\n",
      "epoch 5, correct=1485/1500 (99.00%)\n",
      "epoch 6, correct=1484/1500 (98.93%)\n",
      "epoch 7, correct=1480/1500 (98.67%)\n",
      "epoch 8, correct=1481/1500 (98.73%)\n",
      "epoch 9, correct=1474/1500 (98.27%)\n",
      "epoch 10, correct=1487/1500 (99.13%)\n",
      "epoch 11, correct=1475/1500 (98.33%)\n",
      "epoch 12, correct=1486/1500 (99.07%)\n",
      "epoch 13, correct=1481/1500 (98.73%)\n",
      "epoch 14, correct=1496/1500 (99.73%)\n"
     ]
    }
   ],
   "source": [
    "for j in range(epochs):\n",
    "    total_loss = 0.0\n",
    "    correct = 0\n",
    "    for i in range(1500):\n",
    "        y = torch.nn.functional.one_hot(training_output[i], num_classes=10).to(torch.float32)\n",
    "\n",
    "        model.zero_grad()\n",
    "        out = model(training_input[i].flatten())\n",
    "\n",
    "        loss = torch.nn.functional.cross_entropy(out, y, reduction=\"sum\")\n",
    "        loss.backward()\n",
    "        if out.argmax().item() == y.argmax().item():\n",
    "            correct += 1\n",
    "\n",
    "        optimizer.step()\n",
    "        total_loss += loss.item()\n",
    "    print(f\"epoch {j}, correct={correct}/{1500} ({( correct / 1500 * 100 ):.2f}%)\")"
   ]
  },
  {
   "cell_type": "code",
   "execution_count": 10,
   "metadata": {},
   "outputs": [
    {
     "name": "stdout",
     "output_type": "stream",
     "text": [
      "test done, 229 correct out of 297, wrong=68\n"
     ]
    }
   ],
   "source": [
    "\n",
    "model.zero_grad()\n",
    "correct = 0\n",
    "for i in range(len(test_input)):\n",
    "    with torch.no_grad():\n",
    "        y = torch.zeros(10).double()\n",
    "        y[test_output[i]] = 1\n",
    "\n",
    "        out = model(test_input[i].flatten())\n",
    "\n",
    "        # loss = torch.nn.functional.cross_entropy(out, y, reduction=\"sum\")\n",
    "        pred = out.argmax().item()\n",
    "        truth = y.argmax().item()\n",
    "        # print(\n",
    "        #     f\"pred={pred}, truth={truth}, index={i}, perf={( correct / i *100 ):.2f}%\")\n",
    "        if pred == truth:\n",
    "            correct += 1\n",
    "\n",
    "        # optimizer.step()\n",
    "print(\n",
    "    f\"test done, {correct} correct out of {len(test_input)}, wrong={len(test_input) -correct }\")"
   ]
  },
  {
   "cell_type": "code",
   "execution_count": 11,
   "metadata": {},
   "outputs": [
    {
     "data": {
      "text/plain": [
       "<matplotlib.image.AxesImage at 0x7f64922cc6d0>"
      ]
     },
     "execution_count": 11,
     "metadata": {},
     "output_type": "execute_result"
    },
    {
     "data": {
      "image/png": "[encoded data removed]",
      "text/plain": [
       "<Figure size 640x480 with 1 Axes>"
      ]
     },
     "metadata": {},
     "output_type": "display_data"
    }
   ],
   "source": [
    "import matplotlib.pyplot as plt\n",
    "plt.imshow(test_input[265].cpu(), cmap=\"binary\")"
   ]
  },
  {
   "cell_type": "code",
   "execution_count": 36,
   "metadata": {},
   "outputs": [
    {
     "name": "stdout",
     "output_type": "stream",
     "text": [
      "certainty tensor=tensor([0.0573, 0.0795, 0.0574, 0.2122, 0.0816, 0.1235, 0.0504, 0.0833, 0.1159,\n",
      "        0.1390], device='cuda:0', grad_fn=<SoftmaxBackward0>)\n",
      "3 certainty=21.217576847235247%\n"
     ]
    },
    {
     "name": "stderr",
     "output_type": "stream",
     "text": [
      "/usr/lib/python3.11/site-packages/torch/nn/functional.py:1839: UserWarning: Implicit dimension choice for softmax has been deprecated. Change the call to include dim=X as an argument.\n",
      "  return handle_torch_function(softmax, (input,), input, dim=dim, _stacklevel=_stacklevel, dtype=dtype)\n"
     ]
    },
    {
     "data": {
      "image/png": "[encoded data removed]",
      "text/plain": [
       "<Figure size 640x480 with 1 Axes>"
      ]
     },
     "metadata": {},
     "output_type": "display_data"
    }
   ],
   "source": [
    "import pygame\n",
    "import numpy as np\n",
    "\n",
    "# Initialize Pygame\n",
    "pygame.init()\n",
    "\n",
    "# Set the width and height of the window\n",
    "pixel_size = 40\n",
    "window_width = 20\n",
    "window_height = 20\n",
    "\n",
    "# Calculate the actual window size based on pixel size\n",
    "window_width_px = window_width * pixel_size\n",
    "window_height_px = window_height * pixel_size\n",
    "\n",
    "# Create the window\n",
    "surface = pygame.display.set_mode((window_width_px, window_height_px))\n",
    "pygame.display.set_caption(\"Pixel Drawer\")\n",
    "\n",
    "# Create a 2D array to store the pixel data\n",
    "pixels = np.zeros((window_width, window_height), dtype=int)\n",
    "\n",
    "# Flag to check if the program is running\n",
    "running = True\n",
    "\n",
    "# Main program loop\n",
    "while running:\n",
    "    # Check for events\n",
    "    for event in pygame.event.get():\n",
    "        if event.type == pygame.QUIT:\n",
    "            running = False\n",
    "        elif event.type == pygame.MOUSEBUTTONDOWN or event.type == pygame.MOUSEMOTION:\n",
    "            if pygame.mouse.get_pressed()[0]:  # Check if the left mouse button is pressed\n",
    "                x, y = pygame.mouse.get_pos()\n",
    "                px = x // pixel_size\n",
    "                py = y // pixel_size\n",
    "                pixels[px][py] = 1\n",
    "        elif event.type == pygame.KEYDOWN:\n",
    "            if event.key == pygame.K_RETURN:\n",
    "                running = False\n",
    "\n",
    "    # Clear the window\n",
    "    surface.fill((255, 255, 255))\n",
    "\n",
    "    # Draw the pixels\n",
    "    for x in range(window_width):\n",
    "        for y in range(window_height):\n",
    "            color = (0, 0, 0) if pixels[x][y] == 1 else (255, 255, 255)\n",
    "            pygame.draw.rect(surface, color, (x * pixel_size, y * pixel_size, pixel_size, pixel_size))\n",
    "\n",
    "    # Update the display\n",
    "    pygame.display.flip()\n",
    "\n",
    "# Save the pixel data as a 2D binary array\n",
    "pixels = np.rot90(pixels)\n",
    "# pixels = np.rot90(pixels)\n",
    "pixels = np.flipud(pixels)\n",
    "\n",
    "# Quit Pygame\n",
    "pygame.quit()\n",
    "\n",
    "pixels\n",
    "\n",
    "from torchvision import transforms\n",
    "\n",
    "image = torch.tensor(pixels.copy(), dtype=torch.float32)\n",
    "image = image.unsqueeze(0)\n",
    "\n",
    "output_size = (8, 8)\n",
    "transform = transforms.Compose([\n",
    "        transforms.ToPILImage(),\n",
    "        transforms.Resize(output_size),\n",
    "        transforms.ToTensor(),\n",
    "])\n",
    "\n",
    "dsi = transform(image)\n",
    "dsi\n",
    "\n",
    "plt.imshow(dsi[0])\n",
    "predarr = model(dsi.flatten().cuda())\n",
    "pred = predarr.argmax().item()\n",
    "certainty = predarr[pred]\n",
    "print(f\"certainty {predarr * 100}\")\n",
    "print(pred, f\"certainty={certainty * 100}%\")"
   ]
  },
  {
   "cell_type": "code",
   "execution_count": null,
   "metadata": {},
   "outputs": [],
   "source": []
  },
  {
   "attachments": {},
   "cell_type": "markdown",
   "metadata": {},
   "source": []
  }
 ],
 "metadata": {
  "kernelspec": {
   "display_name": "Python 3",
   "language": "python",
   "name": "python3"
  },
  "language_info": {
   "codemirror_mode": {
    "name": "ipython",
    "version": 3
   },
   "file_extension": ".py",
   "mimetype": "text/x-python",
   "name": "python",
   "nbconvert_exporter": "python",
   "pygments_lexer": "ipython3",
   "version": "3.11.3"
  },
  "orig_nbformat": 4
 },
 "nbformat": 4,
 "nbformat_minor": 2
}
